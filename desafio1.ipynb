{
 "cells": [
  {
   "cell_type": "code",
   "execution_count": 3,
   "metadata": {},
   "outputs": [],
   "source": [
    "# importando bibliotecas\n",
    "from selenium import webdriver\n",
    "from selenium.webdriver.chrome.service import Service\n",
    "from webdriver_manager.chrome import ChromeDriverManager\n",
    "import pyautogui\n",
    "import time\n",
    "\n",
    "\n"
   ]
  },
  {
   "cell_type": "code",
   "execution_count": 4,
   "metadata": {},
   "outputs": [
    {
     "name": "stdout",
     "output_type": "stream",
     "text": [
      "\n"
     ]
    },
    {
     "name": "stderr",
     "output_type": "stream",
     "text": [
      "[WDM] - ====== WebDriver manager ======\n",
      "[WDM] - Current google-chrome version is 102.0.5005\n",
      "[WDM] - Get LATEST chromedriver version for 102.0.5005 google-chrome\n",
      "[WDM] - Driver [C:\\Users\\rrcos\\.wdm\\drivers\\chromedriver\\win32\\102.0.5005.61\\chromedriver.exe] found in cache\n"
     ]
    }
   ],
   "source": [
    "# Criando um serviço para utilizar o webdriver do selenium\n",
    "servico = Service(ChromeDriverManager().install())\n",
    "\n",
    "# Variável recebe as opções do webdriver\n",
    "chrome_options = webdriver.ChromeOptions()\n",
    "prefs = {\"download.default_directory\" : r\"C:\\Users\\rrcos\\OneDrive\\Área de Trabalho\\desafios-intuitiveCare\"}\n",
    "chrome_options.add_experimental_option(\"prefs\", prefs)\n",
    "driver = webdriver.Chrome(service=servico, options=chrome_options)\n",
    "pyautogui.PAUSE = 1\n",
    "\n",
    "# acessando e realizando o download dos arquivos\n",
    "driver.get(\"https://www.gov.br/ans/pt-br/arquivos/assuntos/consumidor/o-que-seu-plano-deve-cobrir/Anexo_I_Rol_2021RN_465.2021_RN473_RN478_RN480_RN513_RN536.pdf\")\n",
    "time.sleep(2)\n",
    "pyautogui.hotkey('ctrl', 's')\n",
    "pyautogui.press('enter')\n",
    "\n",
    "driver.get(\"https://www.gov.br/ans/pt-br/arquivos/assuntos/consumidor/o-que-seu-plano-deve-cobrir/Anexo_I_Rol_2021RN_465.2021_RN473_RN478_RN480_RN513_RN536.xlsx\")\n",
    "time.sleep(2)\n",
    "\n",
    "driver.get(\"https://www.gov.br/ans/pt-br/arquivos/assuntos/consumidor/o-que-seu-plano-deve-cobrir/Anexo_II_DUT_2021_RN_465.2021_tea.br_RN473_RN477_RN478_RN480_RN513_RN536.pdf\")\n",
    "time.sleep(2)\n",
    "pyautogui.hotkey('ctrl', 's')\n",
    "\n",
    "pyautogui.press('enter')\n",
    "\n",
    "driver.get(\"https://www.gov.br/ans/pt-br/arquivos/assuntos/consumidor/o-que-seu-plano-deve-cobrir/Anexo_III_DC_2021_RN_465.2021.v2.pdf\")\n",
    "time.sleep(2)\n",
    "pyautogui.hotkey('ctrl', 's')\n",
    "pyautogui.press('enter')\n",
    "\n",
    "driver.get(\"https://www.gov.br/ans/pt-br/arquivos/assuntos/consumidor/o-que-seu-plano-deve-cobrir/Anexo_IV_PROUT_2021_RN_465.2021.v2.pdf\")\n",
    "time.sleep(2)\n",
    "pyautogui.hotkey('ctrl', 's')\n",
    "pyautogui.press('enter')\n",
    "\n",
    "\n",
    "\n"
   ]
  },
  {
   "cell_type": "code",
   "execution_count": 5,
   "metadata": {},
   "outputs": [],
   "source": [
    "# zipando os anexos no arquivo anexos.zip\n",
    "from zipfile import ZipFile\n",
    "with ZipFile('anexos.zip', 'w') as myzip:\n",
    "    myzip.write(\"Anexo_I_Rol_2021RN_465.2021_RN473_RN478_RN480_RN513_RN536.xlsx\")\n",
    "    myzip.write(r\"C:\\Users\\rrcos\\Downloads\\Anexo_I_Rol_2021RN_465.2021_RN473_RN478_RN480_RN513_RN536.pdf\")\n",
    "    myzip.write(r\"C:\\Users\\rrcos\\Downloads\\Anexo_II_DUT_2021_RN_465.2021_tea.br_RN473_RN477_RN478_RN480_RN513_RN536.pdf\")\n",
    "    myzip.write(r\"C:\\Users\\rrcos\\Downloads\\Anexo_III_DC_2021_RN_465.2021.v2.pdf\")\n",
    "    myzip.write(r\"C:\\Users\\rrcos\\Downloads\\Anexo_IV_PROUT_2021_RN_465.2021.v2.pdf\")"
   ]
  },
  {
   "cell_type": "code",
   "execution_count": null,
   "metadata": {},
   "outputs": [],
   "source": []
  }
 ],
 "metadata": {
  "interpreter": {
   "hash": "bb69ed8ac0a37f0b0a599399fe461f7221b960d28ec2afa0eaf94e7a3d54f852"
  },
  "kernelspec": {
   "display_name": "Python 3.10.4 64-bit (windows store)",
   "language": "python",
   "name": "python3"
  },
  "language_info": {
   "codemirror_mode": {
    "name": "ipython",
    "version": 3
   },
   "file_extension": ".py",
   "mimetype": "text/x-python",
   "name": "python",
   "nbconvert_exporter": "python",
   "pygments_lexer": "ipython3",
   "version": "3.10.4"
  },
  "orig_nbformat": 4
 },
 "nbformat": 4,
 "nbformat_minor": 2
}
