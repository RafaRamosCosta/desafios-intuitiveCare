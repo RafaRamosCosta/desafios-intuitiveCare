{
 "cells": [
  {
   "cell_type": "code",
   "execution_count": 4,
   "metadata": {},
   "outputs": [
    {
     "name": "stdout",
     "output_type": "stream",
     "text": [
      "                                           PROCEDIMENTO RN\\r(alteração)  \\\n",
      "0                               ACONSELHAMENTO GENÉTICO             NaN   \n",
      "1     ATENDIMENTO/ACOMPANHAMENTO EM HOSPITAL-DIA PSI...             NaN   \n",
      "2     ATENDIMENTO INTEGRAL AO RECÉM-NASCIDO (SALA DE...             NaN   \n",
      "3     ATENDIMENTO MÉDICO DO INTENSIVISTA EM UTI GERA...             NaN   \n",
      "4     ATENDIMENTO PEDIÁTRICO A GESTANTES (3o TRIMESTRE)             NaN   \n",
      "...                                                 ...             ...   \n",
      "3679                                         TONOMETRIA             NaN   \n",
      "3680  TRICOGRAMA PARA DERMATOLOGIA / MINERALOGRAMA P...             NaN   \n",
      "3681                               URODINÂMICA COMPLETA             NaN   \n",
      "3682                                     UROFLUXOMETRIA             NaN   \n",
      "3683                                    VISÃO SUBNORMAL             NaN   \n",
      "\n",
      "     VIGÊNCIA   OD  AMB  HCO  HSO  REF  PAC  DUT  \\\n",
      "0         NaN  NaN  AMB  HCO  HSO  REF  NaN  NaN   \n",
      "1         NaN  NaN  NaN  HCO  HSO  REF  NaN  109   \n",
      "2         NaN  NaN  NaN  HCO  NaN  REF  NaN  NaN   \n",
      "3         NaN  NaN  NaN  HCO  HSO  REF  NaN  NaN   \n",
      "4         NaN  NaN  AMB  HCO  NaN  REF  NaN  NaN   \n",
      "...       ...  ...  ...  ...  ...  ...  ...  ...   \n",
      "3679      NaN  NaN  AMB  HCO  HSO  REF  NaN  NaN   \n",
      "3680      NaN  NaN  AMB  HCO  HSO  REF  NaN  NaN   \n",
      "3681      NaN  NaN  AMB  HCO  HSO  REF  NaN  NaN   \n",
      "3682      NaN  NaN  AMB  HCO  HSO  REF  NaN  NaN   \n",
      "3683      NaN  NaN  AMB  HCO  HSO  REF  NaN  NaN   \n",
      "\n",
      "                                               SUBGRUPO                 GRUPO  \\\n",
      "0     CONSULTAS, VISITAS HOSPITALARES OU\\rACOMPANHAM...  PROCEDIMENTOS GERAIS   \n",
      "1     CONSULTAS, VISITAS HOSPITALARES OU\\rACOMPANHAM...  PROCEDIMENTOS GERAIS   \n",
      "2     CONSULTAS, VISITAS HOSPITALARES OU\\rACOMPANHAM...  PROCEDIMENTOS GERAIS   \n",
      "3     CONSULTAS, VISITAS HOSPITALARES OU\\rACOMPANHAM...  PROCEDIMENTOS GERAIS   \n",
      "4     CONSULTAS, VISITAS HOSPITALARES OU\\rACOMPANHAM...  PROCEDIMENTOS GERAIS   \n",
      "...                                                 ...                   ...   \n",
      "3679                                      PROCEDIMENTOS    EXAMES ESPECÍFICOS   \n",
      "3680                                      PROCEDIMENTOS    EXAMES ESPECÍFICOS   \n",
      "3681                                      PROCEDIMENTOS    EXAMES ESPECÍFICOS   \n",
      "3682                                      PROCEDIMENTOS    EXAMES ESPECÍFICOS   \n",
      "3683                                      PROCEDIMENTOS    EXAMES ESPECÍFICOS   \n",
      "\n",
      "                                        CAPÍTULO  \n",
      "0                           PROCEDIMENTOS GERAIS  \n",
      "1                           PROCEDIMENTOS GERAIS  \n",
      "2                           PROCEDIMENTOS GERAIS  \n",
      "3                           PROCEDIMENTOS GERAIS  \n",
      "4                           PROCEDIMENTOS GERAIS  \n",
      "...                                          ...  \n",
      "3679  PROCEDIMENTOS DIAGNÓSTICOS E\\rTERAPÊUTICOS  \n",
      "3680  PROCEDIMENTOS DIAGNÓSTICOS E\\rTERAPÊUTICOS  \n",
      "3681  PROCEDIMENTOS DIAGNÓSTICOS E\\rTERAPÊUTICOS  \n",
      "3682  PROCEDIMENTOS DIAGNÓSTICOS E\\rTERAPÊUTICOS  \n",
      "3683  PROCEDIMENTOS DIAGNÓSTICOS E\\rTERAPÊUTICOS  \n",
      "\n",
      "[3684 rows x 13 columns]\n"
     ]
    }
   ],
   "source": [
    "# importando bibliotecas\n",
    "import tabula\n",
    "import pandas as pd\n",
    "\n",
    "#convertendo as tabelas do pdf para csv\n",
    "tabelas = tabula.convert_into(\"https://www.gov.br/ans/pt-br/arquivos/assuntos/consumidor/o-que-seu-plano-deve-cobrir/Anexo_I_Rol_2021RN_465.2021_RN473_RN478_RN480_RN513_RN536.pdf\", \"anexoI.csv\", output_format=\"csv\", pages=\"3-200\", guess=False)\n",
    "\n",
    "# lendo csv com pandas\n",
    "df = pd.read_csv('anexoI.csv', encoding='ISO-8859-1')\n",
    "display(df)"
   ]
  },
  {
   "cell_type": "markdown",
   "metadata": {},
   "source": []
  }
 ],
 "metadata": {
  "interpreter": {
   "hash": "bb69ed8ac0a37f0b0a599399fe461f7221b960d28ec2afa0eaf94e7a3d54f852"
  },
  "kernelspec": {
   "display_name": "Python 3.10.4 64-bit (windows store)",
   "language": "python",
   "name": "python3"
  },
  "language_info": {
   "codemirror_mode": {
    "name": "ipython",
    "version": 3
   },
   "file_extension": ".py",
   "mimetype": "text/x-python",
   "name": "python",
   "nbconvert_exporter": "python",
   "pygments_lexer": "ipython3",
   "version": "3.10.4"
  },
  "orig_nbformat": 4
 },
 "nbformat": 4,
 "nbformat_minor": 2
}
